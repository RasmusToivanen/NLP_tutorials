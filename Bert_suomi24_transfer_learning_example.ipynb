{
 "cells": [
  {
   "cell_type": "code",
   "execution_count": null,
   "metadata": {},
   "outputs": [],
   "source": [
    "#CREDITS\n",
    "#THANKS TURKUNLP for releasing FinBERT models, this tutorial wouldn't be possible without those models.\n",
    "#TurkuNLP Github repo can be found here: https://github.com/TurkuNLP/FinBERT"
   ]
  },
  {
   "cell_type": "code",
   "execution_count": 2,
   "metadata": {
    "colab": {
     "base_uri": "https://localhost:8080/",
     "height": 221
    },
    "colab_type": "code",
    "executionInfo": {
     "elapsed": 5241,
     "status": "ok",
     "timestamp": 1596790990577,
     "user": {
      "displayName": "Rasmus Toivanen",
      "photoUrl": "https://lh3.googleusercontent.com/a-/AOh14Gi6IqITU91BaGAVAk-svZVjSn5PGfmmH3hFjs2tTg=s64",
      "userId": "04550260145130129127"
     },
     "user_tz": -180
    },
    "id": "rl6DWldV24HW",
    "outputId": "42f5b4d6-cb89-4c94-c4a9-6ea599f41fe1"
   },
   "outputs": [
    {
     "name": "stdout",
     "output_type": "stream",
     "text": [
      "Requirement already satisfied: awscli in /usr/local/lib/python3.6/dist-packages (1.18.114)\n",
      "Requirement already satisfied: docutils<0.16,>=0.10 in /usr/local/lib/python3.6/dist-packages (from awscli) (0.15.2)\n",
      "Requirement already satisfied: s3transfer<0.4.0,>=0.3.0 in /usr/local/lib/python3.6/dist-packages (from awscli) (0.3.3)\n",
      "Requirement already satisfied: colorama<0.4.4,>=0.2.5; python_version != \"3.4\" in /usr/local/lib/python3.6/dist-packages (from awscli) (0.4.3)\n",
      "Requirement already satisfied: botocore==1.17.37 in /usr/local/lib/python3.6/dist-packages (from awscli) (1.17.37)\n",
      "Requirement already satisfied: PyYAML<5.4,>=3.10; python_version != \"3.4\" in /usr/local/lib/python3.6/dist-packages (from awscli) (3.13)\n",
      "Requirement already satisfied: rsa<=4.5.0,>=3.1.2; python_version != \"3.4\" in /usr/local/lib/python3.6/dist-packages (from awscli) (4.5)\n",
      "Requirement already satisfied: jmespath<1.0.0,>=0.7.1 in /usr/local/lib/python3.6/dist-packages (from botocore==1.17.37->awscli) (0.10.0)\n",
      "Requirement already satisfied: urllib3<1.26,>=1.20; python_version != \"3.4\" in /usr/local/lib/python3.6/dist-packages (from botocore==1.17.37->awscli) (1.24.3)\n",
      "Requirement already satisfied: python-dateutil<3.0.0,>=2.1 in /usr/local/lib/python3.6/dist-packages (from botocore==1.17.37->awscli) (2.8.1)\n",
      "Requirement already satisfied: pyasn1>=0.1.3 in /usr/local/lib/python3.6/dist-packages (from rsa<=4.5.0,>=3.1.2; python_version != \"3.4\"->awscli) (0.4.8)\n",
      "Requirement already satisfied: six>=1.5 in /usr/local/lib/python3.6/dist-packages (from python-dateutil<3.0.0,>=2.1->botocore==1.17.37->awscli) (1.15.0)\n"
     ]
    }
   ],
   "source": [
    "#install awscli so we can fetch files from public repositories (I share files for this demo in that way)\n",
    "!pip install awscli"
   ]
  },
  {
   "cell_type": "code",
   "execution_count": 3,
   "metadata": {
    "colab": {
     "base_uri": "https://localhost:8080/",
     "height": 34
    },
    "colab_type": "code",
    "executionInfo": {
     "elapsed": 9624,
     "status": "ok",
     "timestamp": 1596791016594,
     "user": {
      "displayName": "Rasmus Toivanen",
      "photoUrl": "https://lh3.googleusercontent.com/a-/AOh14Gi6IqITU91BaGAVAk-svZVjSn5PGfmmH3hFjs2tTg=s64",
      "userId": "04550260145130129127"
     },
     "user_tz": -180
    },
    "id": "i4fW29ho23Tl",
    "outputId": "c3b3bbbd-afda-4fde-eb31-d8707bacb3f0"
   },
   "outputs": [
    {
     "name": "stdout",
     "output_type": "stream",
     "text": [
      "Completed 170 Bytes/170 Bytes (289 Bytes/s) with 1 file(s) remaining\r",
      "download: s3://ml-examples-data-and-modelfileshare/models/finbert/requirements.txt to ./requirements.txt\n"
     ]
    }
   ],
   "source": [
    "#download requirements.txt \n",
    "!aws s3 --no-sign-request cp s3://ml-examples-data-and-modelfileshare/models/finbert/requirements.txt requirements.txt"
   ]
  },
  {
   "cell_type": "code",
   "execution_count": 4,
   "metadata": {
    "colab": {
     "base_uri": "https://localhost:8080/",
     "height": 1000
    },
    "colab_type": "code",
    "executionInfo": {
     "elapsed": 94974,
     "status": "ok",
     "timestamp": 1596791169711,
     "user": {
      "displayName": "Rasmus Toivanen",
      "photoUrl": "https://lh3.googleusercontent.com/a-/AOh14Gi6IqITU91BaGAVAk-svZVjSn5PGfmmH3hFjs2tTg=s64",
      "userId": "04550260145130129127"
     },
     "user_tz": -180
    },
    "id": "20fg-RqLY6Ic",
    "outputId": "c4f28d17-bb11-465c-ffe2-762a7084c968"
   },
   "outputs": [
    {
     "name": "stdout",
     "output_type": "stream",
     "text": [
      "Collecting fastprogress==0.2.2\n",
      "  Downloading https://files.pythonhosted.org/packages/41/67/347d73405b8612e436a4278f577186a8b783fe757df549ba1a82a2986727/fastprogress-0.2.2-py3-none-any.whl\n",
      "Collecting Keras==2.2.4\n",
      "\u001b[?25l  Downloading https://files.pythonhosted.org/packages/5e/10/aa32dad071ce52b5502266b5c659451cfd6ffcbf14e6c8c4f16c0ff5aaab/Keras-2.2.4-py2.py3-none-any.whl (312kB)\n",
      "\u001b[K     |████████████████████████████████| 317kB 6.5MB/s \n",
      "\u001b[?25hCollecting ktrain==0.8.1\n",
      "\u001b[?25l  Downloading https://files.pythonhosted.org/packages/65/23/94956f569f5c67334d6683f2d2e7f2ba22941c97c598bf40d435a0c164d4/ktrain-0.8.1.tar.gz (95kB)\n",
      "\u001b[K     |████████████████████████████████| 102kB 7.5MB/s \n",
      "\u001b[?25hCollecting numpy==1.18.1\n",
      "\u001b[?25l  Downloading https://files.pythonhosted.org/packages/62/20/4d43e141b5bc426ba38274933ef8e76e85c7adea2c321ecf9ebf7421cedf/numpy-1.18.1-cp36-cp36m-manylinux1_x86_64.whl (20.1MB)\n",
      "\u001b[K     |████████████████████████████████| 20.2MB 1.2MB/s \n",
      "\u001b[?25hCollecting pandas==0.25.3\n",
      "\u001b[?25l  Downloading https://files.pythonhosted.org/packages/52/3f/f6a428599e0d4497e1595030965b5ba455fd8ade6e977e3c819973c4b41d/pandas-0.25.3-cp36-cp36m-manylinux1_x86_64.whl (10.4MB)\n",
      "\u001b[K     |████████████████████████████████| 10.4MB 50.6MB/s \n",
      "\u001b[?25hCollecting scikit-learn==0.21.3\n",
      "\u001b[?25l  Downloading https://files.pythonhosted.org/packages/a0/c5/d2238762d780dde84a20b8c761f563fe882b88c5a5fb03c056547c442a19/scikit_learn-0.21.3-cp36-cp36m-manylinux1_x86_64.whl (6.7MB)\n",
      "\u001b[K     |████████████████████████████████| 6.7MB 58.6MB/s \n",
      "\u001b[?25hRequirement already satisfied: scipy==1.4.1 in /usr/local/lib/python3.6/dist-packages (from -r requirements.txt (line 7)) (1.4.1)\n",
      "Collecting tensorflow-gpu==2.0.0\n",
      "\u001b[?25l  Downloading https://files.pythonhosted.org/packages/25/44/47f0722aea081697143fbcf5d2aa60d1aee4aaacb5869aee2b568974777b/tensorflow_gpu-2.0.0-cp36-cp36m-manylinux2010_x86_64.whl (380.8MB)\n",
      "\u001b[K     |████████████████████████████████| 380.8MB 46kB/s \n",
      "\u001b[?25hRequirement already satisfied: tqdm==4.41.1 in /usr/local/lib/python3.6/dist-packages (from -r requirements.txt (line 9)) (4.41.1)\n",
      "Collecting awscli==1.18.112\n",
      "\u001b[?25l  Downloading https://files.pythonhosted.org/packages/ad/a8/25627c0605b2bff69fd1226a5247392aafd0ac3ebfdcd4ed69d37f06dd70/awscli-1.18.112-py2.py3-none-any.whl (3.3MB)\n",
      "\u001b[K     |████████████████████████████████| 3.3MB 45.7MB/s \n",
      "\u001b[?25hRequirement already satisfied: keras-preprocessing>=1.0.5 in /usr/local/lib/python3.6/dist-packages (from Keras==2.2.4->-r requirements.txt (line 2)) (1.1.2)\n",
      "Collecting keras-applications>=1.0.6\n",
      "\u001b[?25l  Downloading https://files.pythonhosted.org/packages/71/e3/19762fdfc62877ae9102edf6342d71b28fbfd9dea3d2f96a882ce099b03f/Keras_Applications-1.0.8-py3-none-any.whl (50kB)\n",
      "\u001b[K     |████████████████████████████████| 51kB 8.4MB/s \n",
      "\u001b[?25hRequirement already satisfied: six>=1.9.0 in /usr/local/lib/python3.6/dist-packages (from Keras==2.2.4->-r requirements.txt (line 2)) (1.15.0)\n",
      "Requirement already satisfied: pyyaml in /usr/local/lib/python3.6/dist-packages (from Keras==2.2.4->-r requirements.txt (line 2)) (3.13)\n",
      "Requirement already satisfied: h5py in /usr/local/lib/python3.6/dist-packages (from Keras==2.2.4->-r requirements.txt (line 2)) (2.10.0)\n",
      "Requirement already satisfied: matplotlib>=3.0.0 in /usr/local/lib/python3.6/dist-packages (from ktrain==0.8.1->-r requirements.txt (line 3)) (3.2.2)\n",
      "Collecting keras_bert\n",
      "  Downloading https://files.pythonhosted.org/packages/e2/7f/95fabd29f4502924fa3f09ff6538c5a7d290dfef2c2fe076d3d1a16e08f0/keras-bert-0.86.0.tar.gz\n",
      "Requirement already satisfied: requests in /usr/local/lib/python3.6/dist-packages (from ktrain==0.8.1->-r requirements.txt (line 3)) (2.23.0)\n",
      "Requirement already satisfied: joblib in /usr/local/lib/python3.6/dist-packages (from ktrain==0.8.1->-r requirements.txt (line 3)) (0.16.0)\n",
      "Collecting langdetect\n",
      "\u001b[?25l  Downloading https://files.pythonhosted.org/packages/56/a3/8407c1e62d5980188b4acc45ef3d94b933d14a2ebc9ef3505f22cf772570/langdetect-1.0.8.tar.gz (981kB)\n",
      "\u001b[K     |████████████████████████████████| 983kB 46.5MB/s \n",
      "\u001b[?25hRequirement already satisfied: jieba in /usr/local/lib/python3.6/dist-packages (from ktrain==0.8.1->-r requirements.txt (line 3)) (0.42.1)\n",
      "Collecting cchardet\n",
      "\u001b[?25l  Downloading https://files.pythonhosted.org/packages/1e/c5/7e1a0d7b4afd83d6f8de794fce82820ec4c5136c6d52e14000822681a842/cchardet-2.1.6-cp36-cp36m-manylinux2010_x86_64.whl (241kB)\n",
      "\u001b[K     |████████████████████████████████| 245kB 52.9MB/s \n",
      "\u001b[?25hCollecting networkx==2.3\n",
      "\u001b[?25l  Downloading https://files.pythonhosted.org/packages/85/08/f20aef11d4c343b557e5de6b9548761811eb16e438cee3d32b1c66c8566b/networkx-2.3.zip (1.7MB)\n",
      "\u001b[K     |████████████████████████████████| 1.8MB 48.2MB/s \n",
      "\u001b[?25hRequirement already satisfied: bokeh in /usr/local/lib/python3.6/dist-packages (from ktrain==0.8.1->-r requirements.txt (line 3)) (2.1.1)\n",
      "Collecting seqeval\n",
      "  Downloading https://files.pythonhosted.org/packages/34/91/068aca8d60ce56dd9ba4506850e876aba5e66a6f2f29aa223224b50df0de/seqeval-0.0.12.tar.gz\n",
      "Requirement already satisfied: packaging in /usr/local/lib/python3.6/dist-packages (from ktrain==0.8.1->-r requirements.txt (line 3)) (20.4)\n",
      "Requirement already satisfied: tensorflow_datasets in /usr/local/lib/python3.6/dist-packages (from ktrain==0.8.1->-r requirements.txt (line 3)) (2.1.0)\n",
      "Collecting transformers\n",
      "\u001b[?25l  Downloading https://files.pythonhosted.org/packages/27/3c/91ed8f5c4e7ef3227b4119200fc0ed4b4fd965b1f0172021c25701087825/transformers-3.0.2-py3-none-any.whl (769kB)\n",
      "\u001b[K     |████████████████████████████████| 778kB 47.0MB/s \n",
      "\u001b[?25hRequirement already satisfied: python-dateutil>=2.6.1 in /usr/local/lib/python3.6/dist-packages (from pandas==0.25.3->-r requirements.txt (line 5)) (2.8.1)\n",
      "Requirement already satisfied: pytz>=2017.2 in /usr/local/lib/python3.6/dist-packages (from pandas==0.25.3->-r requirements.txt (line 5)) (2018.9)\n",
      "Requirement already satisfied: wrapt>=1.11.1 in /usr/local/lib/python3.6/dist-packages (from tensorflow-gpu==2.0.0->-r requirements.txt (line 8)) (1.12.1)\n",
      "Requirement already satisfied: wheel>=0.26 in /usr/local/lib/python3.6/dist-packages (from tensorflow-gpu==2.0.0->-r requirements.txt (line 8)) (0.34.2)\n",
      "Requirement already satisfied: astor>=0.6.0 in /usr/local/lib/python3.6/dist-packages (from tensorflow-gpu==2.0.0->-r requirements.txt (line 8)) (0.8.1)\n",
      "Requirement already satisfied: grpcio>=1.8.6 in /usr/local/lib/python3.6/dist-packages (from tensorflow-gpu==2.0.0->-r requirements.txt (line 8)) (1.30.0)\n",
      "Collecting tensorboard<2.1.0,>=2.0.0\n",
      "\u001b[?25l  Downloading https://files.pythonhosted.org/packages/76/54/99b9d5d52d5cb732f099baaaf7740403e83fe6b0cedde940fabd2b13d75a/tensorboard-2.0.2-py3-none-any.whl (3.8MB)\n",
      "\u001b[K     |████████████████████████████████| 3.8MB 48.4MB/s \n",
      "\u001b[?25hRequirement already satisfied: absl-py>=0.7.0 in /usr/local/lib/python3.6/dist-packages (from tensorflow-gpu==2.0.0->-r requirements.txt (line 8)) (0.9.0)\n",
      "Requirement already satisfied: opt-einsum>=2.3.2 in /usr/local/lib/python3.6/dist-packages (from tensorflow-gpu==2.0.0->-r requirements.txt (line 8)) (3.3.0)\n",
      "Requirement already satisfied: protobuf>=3.6.1 in /usr/local/lib/python3.6/dist-packages (from tensorflow-gpu==2.0.0->-r requirements.txt (line 8)) (3.12.4)\n",
      "Requirement already satisfied: google-pasta>=0.1.6 in /usr/local/lib/python3.6/dist-packages (from tensorflow-gpu==2.0.0->-r requirements.txt (line 8)) (0.2.0)\n",
      "Requirement already satisfied: termcolor>=1.1.0 in /usr/local/lib/python3.6/dist-packages (from tensorflow-gpu==2.0.0->-r requirements.txt (line 8)) (1.1.0)\n",
      "Collecting tensorflow-estimator<2.1.0,>=2.0.0\n",
      "\u001b[?25l  Downloading https://files.pythonhosted.org/packages/fc/08/8b927337b7019c374719145d1dceba21a8bb909b93b1ad6f8fb7d22c1ca1/tensorflow_estimator-2.0.1-py2.py3-none-any.whl (449kB)\n",
      "\u001b[K     |████████████████████████████████| 450kB 27.0MB/s \n",
      "\u001b[?25hCollecting gast==0.2.2\n",
      "  Downloading https://files.pythonhosted.org/packages/4e/35/11749bf99b2d4e3cceb4d55ca22590b0d7c2c62b9de38ac4a4a7f4687421/gast-0.2.2.tar.gz\n",
      "Collecting botocore==1.17.35\n",
      "\u001b[?25l  Downloading https://files.pythonhosted.org/packages/33/6a/e7008939a4b17d458d976fff0da62167b3c0f2e4015ebea09202261a092a/botocore-1.17.35-py2.py3-none-any.whl (6.5MB)\n",
      "\u001b[K     |████████████████████████████████| 6.5MB 42.8MB/s \n",
      "\u001b[?25hRequirement already satisfied: colorama<0.4.4,>=0.2.5; python_version != \"3.4\" in /usr/local/lib/python3.6/dist-packages (from awscli==1.18.112->-r requirements.txt (line 10)) (0.4.3)\n",
      "Requirement already satisfied: docutils<0.16,>=0.10 in /usr/local/lib/python3.6/dist-packages (from awscli==1.18.112->-r requirements.txt (line 10)) (0.15.2)\n",
      "Requirement already satisfied: rsa<=4.5.0,>=3.1.2; python_version != \"3.4\" in /usr/local/lib/python3.6/dist-packages (from awscli==1.18.112->-r requirements.txt (line 10)) (4.5)\n",
      "Requirement already satisfied: s3transfer<0.4.0,>=0.3.0 in /usr/local/lib/python3.6/dist-packages (from awscli==1.18.112->-r requirements.txt (line 10)) (0.3.3)\n",
      "Requirement already satisfied: kiwisolver>=1.0.1 in /usr/local/lib/python3.6/dist-packages (from matplotlib>=3.0.0->ktrain==0.8.1->-r requirements.txt (line 3)) (1.2.0)\n",
      "Requirement already satisfied: pyparsing!=2.0.4,!=2.1.2,!=2.1.6,>=2.0.1 in /usr/local/lib/python3.6/dist-packages (from matplotlib>=3.0.0->ktrain==0.8.1->-r requirements.txt (line 3)) (2.4.7)\n",
      "Requirement already satisfied: cycler>=0.10 in /usr/local/lib/python3.6/dist-packages (from matplotlib>=3.0.0->ktrain==0.8.1->-r requirements.txt (line 3)) (0.10.0)\n",
      "Collecting keras-transformer>=0.38.0\n",
      "  Downloading https://files.pythonhosted.org/packages/89/6c/d6f0c164f4cc16fbc0d0fea85f5526e87a7d2df7b077809e422a7e626150/keras-transformer-0.38.0.tar.gz\n",
      "Requirement already satisfied: certifi>=2017.4.17 in /usr/local/lib/python3.6/dist-packages (from requests->ktrain==0.8.1->-r requirements.txt (line 3)) (2020.6.20)\n",
      "Requirement already satisfied: urllib3!=1.25.0,!=1.25.1,<1.26,>=1.21.1 in /usr/local/lib/python3.6/dist-packages (from requests->ktrain==0.8.1->-r requirements.txt (line 3)) (1.24.3)\n",
      "Requirement already satisfied: idna<3,>=2.5 in /usr/local/lib/python3.6/dist-packages (from requests->ktrain==0.8.1->-r requirements.txt (line 3)) (2.10)\n",
      "Requirement already satisfied: chardet<4,>=3.0.2 in /usr/local/lib/python3.6/dist-packages (from requests->ktrain==0.8.1->-r requirements.txt (line 3)) (3.0.4)\n",
      "Requirement already satisfied: decorator>=4.3.0 in /usr/local/lib/python3.6/dist-packages (from networkx==2.3->ktrain==0.8.1->-r requirements.txt (line 3)) (4.4.2)\n",
      "Requirement already satisfied: typing-extensions>=3.7.4 in /usr/local/lib/python3.6/dist-packages (from bokeh->ktrain==0.8.1->-r requirements.txt (line 3)) (3.7.4.2)\n",
      "Requirement already satisfied: pillow>=4.0 in /usr/local/lib/python3.6/dist-packages (from bokeh->ktrain==0.8.1->-r requirements.txt (line 3)) (7.0.0)\n",
      "Requirement already satisfied: Jinja2>=2.7 in /usr/local/lib/python3.6/dist-packages (from bokeh->ktrain==0.8.1->-r requirements.txt (line 3)) (2.11.2)\n",
      "Requirement already satisfied: tornado>=5.1 in /usr/local/lib/python3.6/dist-packages (from bokeh->ktrain==0.8.1->-r requirements.txt (line 3)) (5.1.1)\n",
      "Requirement already satisfied: dill in /usr/local/lib/python3.6/dist-packages (from tensorflow_datasets->ktrain==0.8.1->-r requirements.txt (line 3)) (0.3.2)\n",
      "Requirement already satisfied: tensorflow-metadata in /usr/local/lib/python3.6/dist-packages (from tensorflow_datasets->ktrain==0.8.1->-r requirements.txt (line 3)) (0.22.2)\n",
      "Requirement already satisfied: promise in /usr/local/lib/python3.6/dist-packages (from tensorflow_datasets->ktrain==0.8.1->-r requirements.txt (line 3)) (2.3)\n",
      "Requirement already satisfied: future in /usr/local/lib/python3.6/dist-packages (from tensorflow_datasets->ktrain==0.8.1->-r requirements.txt (line 3)) (0.16.0)\n",
      "Requirement already satisfied: attrs>=18.1.0 in /usr/local/lib/python3.6/dist-packages (from tensorflow_datasets->ktrain==0.8.1->-r requirements.txt (line 3)) (19.3.0)\n",
      "Collecting tokenizers==0.8.1.rc1\n",
      "\u001b[?25l  Downloading https://files.pythonhosted.org/packages/40/d0/30d5f8d221a0ed981a186c8eb986ce1c94e3a6e87f994eae9f4aa5250217/tokenizers-0.8.1rc1-cp36-cp36m-manylinux1_x86_64.whl (3.0MB)\n",
      "\u001b[K     |████████████████████████████████| 3.0MB 50.8MB/s \n",
      "\u001b[?25hCollecting sentencepiece!=0.1.92\n",
      "\u001b[?25l  Downloading https://files.pythonhosted.org/packages/d4/a4/d0a884c4300004a78cca907a6ff9a5e9fe4f090f5d95ab341c53d28cbc58/sentencepiece-0.1.91-cp36-cp36m-manylinux1_x86_64.whl (1.1MB)\n",
      "\u001b[K     |████████████████████████████████| 1.1MB 48.5MB/s \n",
      "\u001b[?25hRequirement already satisfied: filelock in /usr/local/lib/python3.6/dist-packages (from transformers->ktrain==0.8.1->-r requirements.txt (line 3)) (3.0.12)\n",
      "Collecting sacremoses\n",
      "\u001b[?25l  Downloading https://files.pythonhosted.org/packages/7d/34/09d19aff26edcc8eb2a01bed8e98f13a1537005d31e95233fd48216eed10/sacremoses-0.0.43.tar.gz (883kB)\n",
      "\u001b[K     |████████████████████████████████| 890kB 46.5MB/s \n",
      "\u001b[?25hRequirement already satisfied: dataclasses; python_version < \"3.7\" in /usr/local/lib/python3.6/dist-packages (from transformers->ktrain==0.8.1->-r requirements.txt (line 3)) (0.7)\n",
      "Requirement already satisfied: regex!=2019.12.17 in /usr/local/lib/python3.6/dist-packages (from transformers->ktrain==0.8.1->-r requirements.txt (line 3)) (2019.12.20)\n",
      "Requirement already satisfied: werkzeug>=0.11.15 in /usr/local/lib/python3.6/dist-packages (from tensorboard<2.1.0,>=2.0.0->tensorflow-gpu==2.0.0->-r requirements.txt (line 8)) (1.0.1)\n",
      "Requirement already satisfied: markdown>=2.6.8 in /usr/local/lib/python3.6/dist-packages (from tensorboard<2.1.0,>=2.0.0->tensorflow-gpu==2.0.0->-r requirements.txt (line 8)) (3.2.2)\n",
      "Requirement already satisfied: setuptools>=41.0.0 in /usr/local/lib/python3.6/dist-packages (from tensorboard<2.1.0,>=2.0.0->tensorflow-gpu==2.0.0->-r requirements.txt (line 8)) (49.2.0)\n",
      "Requirement already satisfied: google-auth-oauthlib<0.5,>=0.4.1 in /usr/local/lib/python3.6/dist-packages (from tensorboard<2.1.0,>=2.0.0->tensorflow-gpu==2.0.0->-r requirements.txt (line 8)) (0.4.1)\n",
      "Requirement already satisfied: google-auth<2,>=1.6.3 in /usr/local/lib/python3.6/dist-packages (from tensorboard<2.1.0,>=2.0.0->tensorflow-gpu==2.0.0->-r requirements.txt (line 8)) (1.17.2)\n",
      "Requirement already satisfied: jmespath<1.0.0,>=0.7.1 in /usr/local/lib/python3.6/dist-packages (from botocore==1.17.35->awscli==1.18.112->-r requirements.txt (line 10)) (0.10.0)\n",
      "Requirement already satisfied: pyasn1>=0.1.3 in /usr/local/lib/python3.6/dist-packages (from rsa<=4.5.0,>=3.1.2; python_version != \"3.4\"->awscli==1.18.112->-r requirements.txt (line 10)) (0.4.8)\n",
      "Collecting keras-pos-embd>=0.11.0\n",
      "  Downloading https://files.pythonhosted.org/packages/09/70/b63ed8fc660da2bb6ae29b9895401c628da5740c048c190b5d7107cadd02/keras-pos-embd-0.11.0.tar.gz\n",
      "Collecting keras-multi-head>=0.27.0\n",
      "  Downloading https://files.pythonhosted.org/packages/e6/32/45adf2549450aca7867deccfa04af80a0ab1ca139af44b16bc669e0e09cd/keras-multi-head-0.27.0.tar.gz\n",
      "Collecting keras-layer-normalization>=0.14.0\n",
      "  Downloading https://files.pythonhosted.org/packages/a4/0e/d1078df0494bac9ce1a67954e5380b6e7569668f0f3b50a9531c62c1fc4a/keras-layer-normalization-0.14.0.tar.gz\n",
      "Collecting keras-position-wise-feed-forward>=0.6.0\n",
      "  Downloading https://files.pythonhosted.org/packages/e3/59/f0faa1037c033059e7e9e7758e6c23b4d1c0772cd48de14c4b6fd4033ad5/keras-position-wise-feed-forward-0.6.0.tar.gz\n",
      "Collecting keras-embed-sim>=0.8.0\n",
      "  Downloading https://files.pythonhosted.org/packages/57/ef/61a1e39082c9e1834a2d09261d4a0b69f7c818b359216d4e1912b20b1c86/keras-embed-sim-0.8.0.tar.gz\n",
      "Requirement already satisfied: MarkupSafe>=0.23 in /usr/local/lib/python3.6/dist-packages (from Jinja2>=2.7->bokeh->ktrain==0.8.1->-r requirements.txt (line 3)) (1.1.1)\n",
      "Requirement already satisfied: googleapis-common-protos in /usr/local/lib/python3.6/dist-packages (from tensorflow-metadata->tensorflow_datasets->ktrain==0.8.1->-r requirements.txt (line 3)) (1.52.0)\n",
      "Requirement already satisfied: click in /usr/local/lib/python3.6/dist-packages (from sacremoses->transformers->ktrain==0.8.1->-r requirements.txt (line 3)) (7.1.2)\n",
      "Requirement already satisfied: importlib-metadata; python_version < \"3.8\" in /usr/local/lib/python3.6/dist-packages (from markdown>=2.6.8->tensorboard<2.1.0,>=2.0.0->tensorflow-gpu==2.0.0->-r requirements.txt (line 8)) (1.7.0)\n",
      "Requirement already satisfied: requests-oauthlib>=0.7.0 in /usr/local/lib/python3.6/dist-packages (from google-auth-oauthlib<0.5,>=0.4.1->tensorboard<2.1.0,>=2.0.0->tensorflow-gpu==2.0.0->-r requirements.txt (line 8)) (1.3.0)\n",
      "Requirement already satisfied: cachetools<5.0,>=2.0.0 in /usr/local/lib/python3.6/dist-packages (from google-auth<2,>=1.6.3->tensorboard<2.1.0,>=2.0.0->tensorflow-gpu==2.0.0->-r requirements.txt (line 8)) (4.1.1)\n",
      "Requirement already satisfied: pyasn1-modules>=0.2.1 in /usr/local/lib/python3.6/dist-packages (from google-auth<2,>=1.6.3->tensorboard<2.1.0,>=2.0.0->tensorflow-gpu==2.0.0->-r requirements.txt (line 8)) (0.2.8)\n",
      "Collecting keras-self-attention==0.46.0\n",
      "  Downloading https://files.pythonhosted.org/packages/15/6b/c804924a056955fa1f3ff767945187103cfc851ba9bd0fc5a6c6bc18e2eb/keras-self-attention-0.46.0.tar.gz\n",
      "Requirement already satisfied: zipp>=0.5 in /usr/local/lib/python3.6/dist-packages (from importlib-metadata; python_version < \"3.8\"->markdown>=2.6.8->tensorboard<2.1.0,>=2.0.0->tensorflow-gpu==2.0.0->-r requirements.txt (line 8)) (3.1.0)\n",
      "Requirement already satisfied: oauthlib>=3.0.0 in /usr/local/lib/python3.6/dist-packages (from requests-oauthlib>=0.7.0->google-auth-oauthlib<0.5,>=0.4.1->tensorboard<2.1.0,>=2.0.0->tensorflow-gpu==2.0.0->-r requirements.txt (line 8)) (3.1.0)\n",
      "Building wheels for collected packages: ktrain, keras-bert, langdetect, networkx, seqeval, gast, keras-transformer, sacremoses, keras-pos-embd, keras-multi-head, keras-layer-normalization, keras-position-wise-feed-forward, keras-embed-sim, keras-self-attention\n",
      "  Building wheel for ktrain (setup.py) ... \u001b[?25l\u001b[?25hdone\n",
      "  Created wheel for ktrain: filename=ktrain-0.8.1-cp36-none-any.whl size=120479 sha256=a0fd60bb8705107c426de7dcc75b388b2fa500e8d09a59dcfa3bd0056a18d96c\n",
      "  Stored in directory: /root/.cache/pip/wheels/ac/51/52/4466c62ffdfa3869ece97866b4a20407499fa814dc1f973c7a\n",
      "  Building wheel for keras-bert (setup.py) ... \u001b[?25l\u001b[?25hdone\n",
      "  Created wheel for keras-bert: filename=keras_bert-0.86.0-cp36-none-any.whl size=34143 sha256=f897c6e6eb4f6a13ff97db6baf54264a53fbfe49ead606a3491fd9976c4aa725\n",
      "  Stored in directory: /root/.cache/pip/wheels/66/f0/b1/748128b58562fc9e31b907bb5e2ab6a35eb37695e83911236b\n",
      "  Building wheel for langdetect (setup.py) ... \u001b[?25l\u001b[?25hdone\n",
      "  Created wheel for langdetect: filename=langdetect-1.0.8-cp36-none-any.whl size=993193 sha256=a9c80c7823245a8ada4d854c62427d8e6ee8bd7a566614058aeabb0fd3825af1\n",
      "  Stored in directory: /root/.cache/pip/wheels/8d/b3/aa/6d99de9f3841d7d3d40a60ea06e6d669e8e5012e6c8b947a57\n",
      "  Building wheel for networkx (setup.py) ... \u001b[?25l\u001b[?25hdone\n",
      "  Created wheel for networkx: filename=networkx-2.3-py2.py3-none-any.whl size=1556408 sha256=9be01cd6186d0f982c73ded19bf1154ecbafd76d46cd95127a6366917109fb1b\n",
      "  Stored in directory: /root/.cache/pip/wheels/de/63/64/3699be2a9d0ccdb37c7f16329acf3863fd76eda58c39c737af\n",
      "  Building wheel for seqeval (setup.py) ... \u001b[?25l\u001b[?25hdone\n",
      "  Created wheel for seqeval: filename=seqeval-0.0.12-cp36-none-any.whl size=7424 sha256=8e02dc256e41a3abed89a0b62edf82651381416b773f5dffe0f39759034835c8\n",
      "  Stored in directory: /root/.cache/pip/wheels/4f/32/0a/df3b340a82583566975377d65e724895b3fad101a3fb729f68\n",
      "  Building wheel for gast (setup.py) ... \u001b[?25l\u001b[?25hdone\n",
      "  Created wheel for gast: filename=gast-0.2.2-cp36-none-any.whl size=7540 sha256=2510b73abdf8511c09ae0eed099f63e43a8eb958f8bc07d44ecb841dbcd8b7c4\n",
      "  Stored in directory: /root/.cache/pip/wheels/5c/2e/7e/a1d4d4fcebe6c381f378ce7743a3ced3699feb89bcfbdadadd\n",
      "  Building wheel for keras-transformer (setup.py) ... \u001b[?25l\u001b[?25hdone\n",
      "  Created wheel for keras-transformer: filename=keras_transformer-0.38.0-cp36-none-any.whl size=12942 sha256=ca7a91e2ab44bf882873803f65b399997822b38226caa9bffbdf723562326b31\n",
      "  Stored in directory: /root/.cache/pip/wheels/e5/fb/3a/37b2b9326c799aa010ae46a04ddb04f320d8c77c0b7e837f4e\n",
      "  Building wheel for sacremoses (setup.py) ... \u001b[?25l\u001b[?25hdone\n",
      "  Created wheel for sacremoses: filename=sacremoses-0.0.43-cp36-none-any.whl size=893260 sha256=d95c3f21d085242bc896f756744c65abc871bde4115e810e693a1325b4e841e4\n",
      "  Stored in directory: /root/.cache/pip/wheels/29/3c/fd/7ce5c3f0666dab31a50123635e6fb5e19ceb42ce38d4e58f45\n",
      "  Building wheel for keras-pos-embd (setup.py) ... \u001b[?25l\u001b[?25hdone\n",
      "  Created wheel for keras-pos-embd: filename=keras_pos_embd-0.11.0-cp36-none-any.whl size=7554 sha256=4d697892295e70313ccc5ebe44df0728de772a799e79d3d54d8e48eeea53ab29\n",
      "  Stored in directory: /root/.cache/pip/wheels/5b/a1/a0/ce6b1d49ba1a9a76f592e70cf297b05c96bc9f418146761032\n",
      "  Building wheel for keras-multi-head (setup.py) ... \u001b[?25l\u001b[?25hdone\n",
      "  Created wheel for keras-multi-head: filename=keras_multi_head-0.27.0-cp36-none-any.whl size=15611 sha256=7d0cda5aaeaf192e2456c4a10377bde3fa890d8b4248e22de41af240530472a5\n",
      "  Stored in directory: /root/.cache/pip/wheels/b5/b4/49/0a0c27dcb93c13af02fea254ff51d1a43a924dd4e5b7a7164d\n",
      "  Building wheel for keras-layer-normalization (setup.py) ... \u001b[?25l\u001b[?25hdone\n",
      "  Created wheel for keras-layer-normalization: filename=keras_layer_normalization-0.14.0-cp36-none-any.whl size=5268 sha256=96121690f530bd35659643b96546cbefcbba2254794dd55159376d46d9af6879\n",
      "  Stored in directory: /root/.cache/pip/wheels/54/80/22/a638a7d406fd155e507aa33d703e3fa2612b9eb7bb4f4fe667\n",
      "  Building wheel for keras-position-wise-feed-forward (setup.py) ... \u001b[?25l\u001b[?25hdone\n",
      "  Created wheel for keras-position-wise-feed-forward: filename=keras_position_wise_feed_forward-0.6.0-cp36-none-any.whl size=5623 sha256=0497f5f01b876387de419031a494badb3f6dfc7b29a0775271ca8e8be817f4b1\n",
      "  Stored in directory: /root/.cache/pip/wheels/39/e2/e2/3514fef126a00574b13bc0b9e23891800158df3a3c19c96e3b\n",
      "  Building wheel for keras-embed-sim (setup.py) ... \u001b[?25l\u001b[?25hdone\n",
      "  Created wheel for keras-embed-sim: filename=keras_embed_sim-0.8.0-cp36-none-any.whl size=4558 sha256=cdd3b877725e07996907d9e5273f1446789ad212ab0a2b8947c319f6be7a2bac\n",
      "  Stored in directory: /root/.cache/pip/wheels/49/45/8b/c111f6cc8bec253e984677de73a6f4f5d2f1649f42aac191c8\n",
      "  Building wheel for keras-self-attention (setup.py) ... \u001b[?25l\u001b[?25hdone\n",
      "  Created wheel for keras-self-attention: filename=keras_self_attention-0.46.0-cp36-none-any.whl size=17278 sha256=ccdecad643d65354de708fa3c1d5028de66c04a087569f4c997e9ef2bf6c9eb0\n",
      "  Stored in directory: /root/.cache/pip/wheels/d2/2e/80/fec4c05eb23c8e13b790e26d207d6e0ffe8013fad8c6bdd4d2\n",
      "Successfully built ktrain keras-bert langdetect networkx seqeval gast keras-transformer sacremoses keras-pos-embd keras-multi-head keras-layer-normalization keras-position-wise-feed-forward keras-embed-sim keras-self-attention\n",
      "\u001b[31mERROR: tensorflow 2.3.0 has requirement gast==0.3.3, but you'll have gast 0.2.2 which is incompatible.\u001b[0m\n",
      "\u001b[31mERROR: tensorflow 2.3.0 has requirement tensorboard<3,>=2.3.0, but you'll have tensorboard 2.0.2 which is incompatible.\u001b[0m\n",
      "\u001b[31mERROR: tensorflow 2.3.0 has requirement tensorflow-estimator<2.4.0,>=2.3.0, but you'll have tensorflow-estimator 2.0.1 which is incompatible.\u001b[0m\n",
      "\u001b[31mERROR: tensorflow-probability 0.11.0 has requirement gast>=0.3.2, but you'll have gast 0.2.2 which is incompatible.\u001b[0m\n",
      "\u001b[31mERROR: google-colab 1.0.0 has requirement pandas~=1.0.0; python_version >= \"3.0\", but you'll have pandas 0.25.3 which is incompatible.\u001b[0m\n",
      "\u001b[31mERROR: datascience 0.10.6 has requirement folium==0.2.1, but you'll have folium 0.8.3 which is incompatible.\u001b[0m\n",
      "\u001b[31mERROR: albumentations 0.1.12 has requirement imgaug<0.2.7,>=0.2.5, but you'll have imgaug 0.2.9 which is incompatible.\u001b[0m\n",
      "\u001b[31mERROR: keras-bert 0.86.0 has requirement Keras>=2.4.3, but you'll have keras 2.2.4 which is incompatible.\u001b[0m\n",
      "Installing collected packages: fastprogress, numpy, keras-applications, Keras, scikit-learn, pandas, keras-pos-embd, keras-self-attention, keras-multi-head, keras-layer-normalization, keras-position-wise-feed-forward, keras-embed-sim, keras-transformer, keras-bert, langdetect, cchardet, networkx, seqeval, tokenizers, sentencepiece, sacremoses, transformers, ktrain, tensorboard, tensorflow-estimator, gast, tensorflow-gpu, botocore, awscli\n",
      "  Found existing installation: fastprogress 0.2.4\n",
      "    Uninstalling fastprogress-0.2.4:\n",
      "      Successfully uninstalled fastprogress-0.2.4\n",
      "  Found existing installation: numpy 1.18.5\n",
      "    Uninstalling numpy-1.18.5:\n",
      "      Successfully uninstalled numpy-1.18.5\n",
      "  Found existing installation: Keras 2.4.3\n",
      "    Uninstalling Keras-2.4.3:\n",
      "      Successfully uninstalled Keras-2.4.3\n",
      "  Found existing installation: scikit-learn 0.22.2.post1\n",
      "    Uninstalling scikit-learn-0.22.2.post1:\n",
      "      Successfully uninstalled scikit-learn-0.22.2.post1\n",
      "  Found existing installation: pandas 1.0.5\n",
      "    Uninstalling pandas-1.0.5:\n",
      "      Successfully uninstalled pandas-1.0.5\n",
      "  Found existing installation: networkx 2.4\n",
      "    Uninstalling networkx-2.4:\n",
      "      Successfully uninstalled networkx-2.4\n",
      "  Found existing installation: tensorboard 2.3.0\n",
      "    Uninstalling tensorboard-2.3.0:\n",
      "      Successfully uninstalled tensorboard-2.3.0\n",
      "  Found existing installation: tensorflow-estimator 2.3.0\n",
      "    Uninstalling tensorflow-estimator-2.3.0:\n",
      "      Successfully uninstalled tensorflow-estimator-2.3.0\n",
      "  Found existing installation: gast 0.3.3\n",
      "    Uninstalling gast-0.3.3:\n",
      "      Successfully uninstalled gast-0.3.3\n",
      "  Found existing installation: botocore 1.17.37\n",
      "    Uninstalling botocore-1.17.37:\n",
      "      Successfully uninstalled botocore-1.17.37\n",
      "  Found existing installation: awscli 1.18.114\n",
      "    Uninstalling awscli-1.18.114:\n",
      "      Successfully uninstalled awscli-1.18.114\n",
      "Successfully installed Keras-2.2.4 awscli-1.18.112 botocore-1.17.35 cchardet-2.1.6 fastprogress-0.2.2 gast-0.2.2 keras-applications-1.0.8 keras-bert-0.86.0 keras-embed-sim-0.8.0 keras-layer-normalization-0.14.0 keras-multi-head-0.27.0 keras-pos-embd-0.11.0 keras-position-wise-feed-forward-0.6.0 keras-self-attention-0.46.0 keras-transformer-0.38.0 ktrain-0.8.1 langdetect-1.0.8 networkx-2.3 numpy-1.18.1 pandas-0.25.3 sacremoses-0.0.43 scikit-learn-0.21.3 sentencepiece-0.1.91 seqeval-0.0.12 tensorboard-2.0.2 tensorflow-estimator-2.0.1 tensorflow-gpu-2.0.0 tokenizers-0.8.1rc1 transformers-3.0.2\n"
     ]
    },
    {
     "data": {
      "application/vnd.colab-display-data+json": {
       "pip_warning": {
        "packages": [
         "numpy",
         "pandas"
        ]
       }
      }
     },
     "metadata": {
      "tags": []
     },
     "output_type": "display_data"
    }
   ],
   "source": [
    "#install dependencies with requirements.txt \n",
    "# RESTART RUNTIME AFTER INSTALLATION AND MAKE SURE YOU ARE USING GPU ACCELERATED RUNTIME!\n",
    "!pip install -r requirements.txt"
   ]
  },
  {
   "cell_type": "code",
   "execution_count": 1,
   "metadata": {
    "colab": {
     "base_uri": "https://localhost:8080/",
     "height": 34
    },
    "colab_type": "code",
    "executionInfo": {
     "elapsed": 6540,
     "status": "ok",
     "timestamp": 1596791245059,
     "user": {
      "displayName": "Rasmus Toivanen",
      "photoUrl": "https://lh3.googleusercontent.com/a-/AOh14Gi6IqITU91BaGAVAk-svZVjSn5PGfmmH3hFjs2tTg=s64",
      "userId": "04550260145130129127"
     },
     "user_tz": -180
    },
    "id": "JhaUKRtIWYsR",
    "outputId": "309a1e9e-d106-442e-99d6-7c575da52b97"
   },
   "outputs": [
    {
     "name": "stdout",
     "output_type": "stream",
     "text": [
      "using Keras version: 2.2.4-tf\n"
     ]
    }
   ],
   "source": [
    "import ktrain\n",
    "from ktrain import text\n",
    "import pandas as pd"
   ]
  },
  {
   "cell_type": "code",
   "execution_count": 2,
   "metadata": {
    "colab": {},
    "colab_type": "code",
    "executionInfo": {
     "elapsed": 1236,
     "status": "ok",
     "timestamp": 1596791245067,
     "user": {
      "displayName": "Rasmus Toivanen",
      "photoUrl": "https://lh3.googleusercontent.com/a-/AOh14Gi6IqITU91BaGAVAk-svZVjSn5PGfmmH3hFjs2tTg=s64",
      "userId": "04550260145130129127"
     },
     "user_tz": -180
    },
    "id": "NNEhfI8zWYsU"
   },
   "outputs": [],
   "source": [
    "%reload_ext autoreload\n",
    "%autoreload 2\n",
    "%matplotlib inline\n",
    "import os\n",
    "os.environ[\"CUDA_DEVICE_ORDER\"]=\"PCI_BUS_ID\";\n",
    "os.environ[\"CUDA_VISIBLE_DEVICES\"]=\"0\"; "
   ]
  },
  {
   "cell_type": "code",
   "execution_count": 3,
   "metadata": {
    "colab": {
     "base_uri": "https://localhost:8080/",
     "height": 34
    },
    "colab_type": "code",
    "executionInfo": {
     "elapsed": 15523,
     "status": "ok",
     "timestamp": 1596791264546,
     "user": {
      "displayName": "Rasmus Toivanen",
      "photoUrl": "https://lh3.googleusercontent.com/a-/AOh14Gi6IqITU91BaGAVAk-svZVjSn5PGfmmH3hFjs2tTg=s64",
      "userId": "04550260145130129127"
     },
     "user_tz": -180
    },
    "id": "RZEYnMMhw6Ru",
    "outputId": "2853d2e2-5744-44d8-b6f1-6cf3dd5b3724"
   },
   "outputs": [
    {
     "name": "stdout",
     "output_type": "stream",
     "text": [
      "download: s3://ml-examples-data-and-modelfileshare/data/all_preprocessed_filtered.csv to data/all_preprocessed_filtered.csv\n"
     ]
    }
   ],
   "source": [
    "#download data\n",
    "!mkdir data\n",
    "!aws s3 --no-sign-request cp s3://ml-examples-data-and-modelfileshare/data/all_preprocessed_filtered.csv data/all_preprocessed_filtered.csv "
   ]
  },
  {
   "cell_type": "code",
   "execution_count": 5,
   "metadata": {
    "colab": {},
    "colab_type": "code",
    "executionInfo": {
     "elapsed": 5580,
     "status": "ok",
     "timestamp": 1596791289888,
     "user": {
      "displayName": "Rasmus Toivanen",
      "photoUrl": "https://lh3.googleusercontent.com/a-/AOh14Gi6IqITU91BaGAVAk-svZVjSn5PGfmmH3hFjs2tTg=s64",
      "userId": "04550260145130129127"
     },
     "user_tz": -180
    },
    "id": "DWz6cF9DWYsW"
   },
   "outputs": [],
   "source": [
    "df = pd.read_csv('data/all_preprocessed_filtered.csv').drop_duplicates()"
   ]
  },
  {
   "cell_type": "code",
   "execution_count": 6,
   "metadata": {
    "colab": {
     "base_uri": "https://localhost:8080/",
     "height": 340
    },
    "colab_type": "code",
    "executionInfo": {
     "elapsed": 5432,
     "status": "ok",
     "timestamp": 1596791289894,
     "user": {
      "displayName": "Rasmus Toivanen",
      "photoUrl": "https://lh3.googleusercontent.com/a-/AOh14Gi6IqITU91BaGAVAk-svZVjSn5PGfmmH3hFjs2tTg=s64",
      "userId": "04550260145130129127"
     },
     "user_tz": -180
    },
    "id": "p--EC2B1WYsZ",
    "outputId": "b4c42bd5-a06d-4ac7-c91e-7f67942c32b8"
   },
   "outputs": [
    {
     "data": {
      "text/plain": [
       "__label__Yhteiskunta              10220\n",
       "__label__Terveys                   6142\n",
       "__label__Suhteet                   5995\n",
       "__label__Perhe                     4804\n",
       "__label__Talous                    4776\n",
       "__label__Matkailu                  4166\n",
       "__label__Työ ja opiskelu           3476\n",
       "__label__Lemmikit                  3299\n",
       "__label__Koti ja rakentaminen      2874\n",
       "__label__Viihde ja kulttuuri       2723\n",
       "__label__Paikkakunnat              2615\n",
       "__label__Urheilu ja kuntoilu       2159\n",
       "__label__Ryhmät                    2118\n",
       "__label__Ajanviete                 2102\n",
       "__label__Nuoret                    2097\n",
       "__label__Tiede ja teknologia       2027\n",
       "__label__Ajoneuvot ja liikenne     2024\n",
       "__label__Ruoka ja juoma            2017\n",
       "Name: label, dtype: int64"
      ]
     },
     "execution_count": 6,
     "metadata": {
      "tags": []
     },
     "output_type": "execute_result"
    }
   ],
   "source": [
    "df.label.value_counts()"
   ]
  },
  {
   "cell_type": "code",
   "execution_count": 7,
   "metadata": {
    "colab": {},
    "colab_type": "code",
    "executionInfo": {
     "elapsed": 836,
     "status": "ok",
     "timestamp": 1596791294695,
     "user": {
      "displayName": "Rasmus Toivanen",
      "photoUrl": "https://lh3.googleusercontent.com/a-/AOh14Gi6IqITU91BaGAVAk-svZVjSn5PGfmmH3hFjs2tTg=s64",
      "userId": "04550260145130129127"
     },
     "user_tz": -180
    },
    "id": "Rd-3f6v6WYsb"
   },
   "outputs": [],
   "source": [
    "# Select few classes that you want or all. I have here chosen 5 classes to keep\n",
    "labels_to_keep = ['__label__Terveys', '__label__Talous','__label__Lemmikit','__label__Urheilu ja kuntoilu','__label__Matkailu']\n",
    "\n",
    "# This will filter out classes not chosen \n",
    "df = df[df.label.isin(labels_to_keep)]\n",
    "\n"
   ]
  },
  {
   "cell_type": "code",
   "execution_count": 8,
   "metadata": {
    "colab": {},
    "colab_type": "code",
    "executionInfo": {
     "elapsed": 460,
     "status": "ok",
     "timestamp": 1596791295455,
     "user": {
      "displayName": "Rasmus Toivanen",
      "photoUrl": "https://lh3.googleusercontent.com/a-/AOh14Gi6IqITU91BaGAVAk-svZVjSn5PGfmmH3hFjs2tTg=s64",
      "userId": "04550260145130129127"
     },
     "user_tz": -180
    },
    "id": "XYfcHXjmh-b0"
   },
   "outputs": [],
   "source": [
    "# These 2 lines will take sample from each class(label) according to the size of the smalles. \n",
    "#Thus it will balance dataset. You might want to use some other techique to mitigate possibility of class imbalance but this is what I've used here and it seems to work ok.\n",
    "g = df.groupby('label')\n",
    "df = pd.DataFrame(g.apply(lambda x: x.sample(g.size().min()).reset_index(drop=True)))"
   ]
  },
  {
   "cell_type": "code",
   "execution_count": 9,
   "metadata": {
    "colab": {},
    "colab_type": "code",
    "executionInfo": {
     "elapsed": 434,
     "status": "ok",
     "timestamp": 1596791295797,
     "user": {
      "displayName": "Rasmus Toivanen",
      "photoUrl": "https://lh3.googleusercontent.com/a-/AOh14Gi6IqITU91BaGAVAk-svZVjSn5PGfmmH3hFjs2tTg=s64",
      "userId": "04550260145130129127"
     },
     "user_tz": -180
    },
    "id": "MtwXTHtbWYse"
   },
   "outputs": [],
   "source": [
    "# Drop empty ones if there are any left just in case\n",
    "df['text_and_title'] = df['text_and_title'].dropna()"
   ]
  },
  {
   "cell_type": "code",
   "execution_count": 10,
   "metadata": {
    "colab": {},
    "colab_type": "code",
    "executionInfo": {
     "elapsed": 1063,
     "status": "ok",
     "timestamp": 1596791296675,
     "user": {
      "displayName": "Rasmus Toivanen",
      "photoUrl": "https://lh3.googleusercontent.com/a-/AOh14Gi6IqITU91BaGAVAk-svZVjSn5PGfmmH3hFjs2tTg=s64",
      "userId": "04550260145130129127"
     },
     "user_tz": -180
    },
    "id": "hmnHh-uTWYsh"
   },
   "outputs": [],
   "source": [
    "#Drop unneeded columns\n",
    "df = df[['label','text_and_title']]"
   ]
  },
  {
   "cell_type": "code",
   "execution_count": 11,
   "metadata": {
    "colab": {
     "base_uri": "https://localhost:8080/",
     "height": 235
    },
    "colab_type": "code",
    "executionInfo": {
     "elapsed": 467,
     "status": "ok",
     "timestamp": 1596791296677,
     "user": {
      "displayName": "Rasmus Toivanen",
      "photoUrl": "https://lh3.googleusercontent.com/a-/AOh14Gi6IqITU91BaGAVAk-svZVjSn5PGfmmH3hFjs2tTg=s64",
      "userId": "04550260145130129127"
     },
     "user_tz": -180
    },
    "id": "5h9zUhinimNN",
    "outputId": "50a23f61-4d11-48c2-ece8-ad2545f50680"
   },
   "outputs": [
    {
     "data": {
      "text/html": [
       "<div>\n",
       "<style scoped>\n",
       "    .dataframe tbody tr th:only-of-type {\n",
       "        vertical-align: middle;\n",
       "    }\n",
       "\n",
       "    .dataframe tbody tr th {\n",
       "        vertical-align: top;\n",
       "    }\n",
       "\n",
       "    .dataframe thead th {\n",
       "        text-align: right;\n",
       "    }\n",
       "</style>\n",
       "<table border=\"1\" class=\"dataframe\">\n",
       "  <thead>\n",
       "    <tr style=\"text-align: right;\">\n",
       "      <th></th>\n",
       "      <th></th>\n",
       "      <th>label</th>\n",
       "      <th>text_and_title</th>\n",
       "    </tr>\n",
       "    <tr>\n",
       "      <th>label</th>\n",
       "      <th></th>\n",
       "      <th></th>\n",
       "      <th></th>\n",
       "    </tr>\n",
       "  </thead>\n",
       "  <tbody>\n",
       "    <tr>\n",
       "      <th rowspan=\"5\" valign=\"top\">__label__Lemmikit</th>\n",
       "      <th>0</th>\n",
       "      <td>__label__Lemmikit</td>\n",
       "      <td>Amstaffit ja Pittbullit.Paska,puhdetta,sanon,m...</td>\n",
       "    </tr>\n",
       "    <tr>\n",
       "      <th>1</th>\n",
       "      <td>__label__Lemmikit</td>\n",
       "      <td>Kaduttaako koskaan?.Onko,kissa,sopiva,kerrosta...</td>\n",
       "    </tr>\n",
       "    <tr>\n",
       "      <th>2</th>\n",
       "      <td>__label__Lemmikit</td>\n",
       "      <td>Isojen koirien omistus kriminalisoitava, HETI ...</td>\n",
       "    </tr>\n",
       "    <tr>\n",
       "      <th>3</th>\n",
       "      <td>__label__Lemmikit</td>\n",
       "      <td>Oletteko.Käyttäneet,ravitsemusneuvojan,apuja,o...</td>\n",
       "    </tr>\n",
       "    <tr>\n",
       "      <th>4</th>\n",
       "      <td>__label__Lemmikit</td>\n",
       "      <td>Hyvästi Anton \"Reiska\".Mitä,väliä,kuka,harrast...</td>\n",
       "    </tr>\n",
       "  </tbody>\n",
       "</table>\n",
       "</div>"
      ],
      "text/plain": [
       "                                 label                                     text_and_title\n",
       "label                                                                                    \n",
       "__label__Lemmikit 0  __label__Lemmikit  Amstaffit ja Pittbullit.Paska,puhdetta,sanon,m...\n",
       "                  1  __label__Lemmikit  Kaduttaako koskaan?.Onko,kissa,sopiva,kerrosta...\n",
       "                  2  __label__Lemmikit  Isojen koirien omistus kriminalisoitava, HETI ...\n",
       "                  3  __label__Lemmikit  Oletteko.Käyttäneet,ravitsemusneuvojan,apuja,o...\n",
       "                  4  __label__Lemmikit  Hyvästi Anton \"Reiska\".Mitä,väliä,kuka,harrast..."
      ]
     },
     "execution_count": 11,
     "metadata": {
      "tags": []
     },
     "output_type": "execute_result"
    }
   ],
   "source": [
    "#lets look how dataframe looks\n",
    "df.head()"
   ]
  },
  {
   "cell_type": "code",
   "execution_count": 12,
   "metadata": {
    "colab": {},
    "colab_type": "code",
    "executionInfo": {
     "elapsed": 643,
     "status": "ok",
     "timestamp": 1596791728911,
     "user": {
      "displayName": "Rasmus Toivanen",
      "photoUrl": "https://lh3.googleusercontent.com/a-/AOh14Gi6IqITU91BaGAVAk-svZVjSn5PGfmmH3hFjs2tTg=s64",
      "userId": "04550260145130129127"
     },
     "user_tz": -180
    },
    "id": "jdosTcrbitXl"
   },
   "outputs": [],
   "source": [
    "#There seems to be unnecessary label column as index column, lets get rid of it\n",
    "df.reset_index(drop=True, inplace=True)"
   ]
  },
  {
   "cell_type": "code",
   "execution_count": 13,
   "metadata": {
    "colab": {
     "base_uri": "https://localhost:8080/",
     "height": 204
    },
    "colab_type": "code",
    "executionInfo": {
     "elapsed": 450,
     "status": "ok",
     "timestamp": 1596791729982,
     "user": {
      "displayName": "Rasmus Toivanen",
      "photoUrl": "https://lh3.googleusercontent.com/a-/AOh14Gi6IqITU91BaGAVAk-svZVjSn5PGfmmH3hFjs2tTg=s64",
      "userId": "04550260145130129127"
     },
     "user_tz": -180
    },
    "id": "Zk8M9C3qizxC",
    "outputId": "5b19de82-c24d-42e4-cf96-aaadbd7fd5a3"
   },
   "outputs": [
    {
     "data": {
      "text/html": [
       "<div>\n",
       "<style scoped>\n",
       "    .dataframe tbody tr th:only-of-type {\n",
       "        vertical-align: middle;\n",
       "    }\n",
       "\n",
       "    .dataframe tbody tr th {\n",
       "        vertical-align: top;\n",
       "    }\n",
       "\n",
       "    .dataframe thead th {\n",
       "        text-align: right;\n",
       "    }\n",
       "</style>\n",
       "<table border=\"1\" class=\"dataframe\">\n",
       "  <thead>\n",
       "    <tr style=\"text-align: right;\">\n",
       "      <th></th>\n",
       "      <th>label</th>\n",
       "      <th>text_and_title</th>\n",
       "    </tr>\n",
       "  </thead>\n",
       "  <tbody>\n",
       "    <tr>\n",
       "      <th>0</th>\n",
       "      <td>__label__Lemmikit</td>\n",
       "      <td>Amstaffit ja Pittbullit.Paska,puhdetta,sanon,m...</td>\n",
       "    </tr>\n",
       "    <tr>\n",
       "      <th>1</th>\n",
       "      <td>__label__Lemmikit</td>\n",
       "      <td>Kaduttaako koskaan?.Onko,kissa,sopiva,kerrosta...</td>\n",
       "    </tr>\n",
       "    <tr>\n",
       "      <th>2</th>\n",
       "      <td>__label__Lemmikit</td>\n",
       "      <td>Isojen koirien omistus kriminalisoitava, HETI ...</td>\n",
       "    </tr>\n",
       "    <tr>\n",
       "      <th>3</th>\n",
       "      <td>__label__Lemmikit</td>\n",
       "      <td>Oletteko.Käyttäneet,ravitsemusneuvojan,apuja,o...</td>\n",
       "    </tr>\n",
       "    <tr>\n",
       "      <th>4</th>\n",
       "      <td>__label__Lemmikit</td>\n",
       "      <td>Hyvästi Anton \"Reiska\".Mitä,väliä,kuka,harrast...</td>\n",
       "    </tr>\n",
       "  </tbody>\n",
       "</table>\n",
       "</div>"
      ],
      "text/plain": [
       "               label                                     text_and_title\n",
       "0  __label__Lemmikit  Amstaffit ja Pittbullit.Paska,puhdetta,sanon,m...\n",
       "1  __label__Lemmikit  Kaduttaako koskaan?.Onko,kissa,sopiva,kerrosta...\n",
       "2  __label__Lemmikit  Isojen koirien omistus kriminalisoitava, HETI ...\n",
       "3  __label__Lemmikit  Oletteko.Käyttäneet,ravitsemusneuvojan,apuja,o...\n",
       "4  __label__Lemmikit  Hyvästi Anton \"Reiska\".Mitä,väliä,kuka,harrast..."
      ]
     },
     "execution_count": 13,
     "metadata": {
      "tags": []
     },
     "output_type": "execute_result"
    }
   ],
   "source": [
    "# Lets check that it is gone\n",
    "df.head()"
   ]
  },
  {
   "cell_type": "code",
   "execution_count": 14,
   "metadata": {
    "colab": {},
    "colab_type": "code",
    "executionInfo": {
     "elapsed": 720,
     "status": "ok",
     "timestamp": 1596791735805,
     "user": {
      "displayName": "Rasmus Toivanen",
      "photoUrl": "https://lh3.googleusercontent.com/a-/AOh14Gi6IqITU91BaGAVAk-svZVjSn5PGfmmH3hFjs2tTg=s64",
      "userId": "04550260145130129127"
     },
     "user_tz": -180
    },
    "id": "XlUgyWhbWYsi"
   },
   "outputs": [],
   "source": [
    "#Transform dataframe to the shape needed by ktrain/BERT.\n",
    "df = pd.concat([df, df.label.astype('str').str.get_dummies()], axis=1, sort=False)"
   ]
  },
  {
   "cell_type": "code",
   "execution_count": 15,
   "metadata": {
    "colab": {
     "base_uri": "https://localhost:8080/",
     "height": 204
    },
    "colab_type": "code",
    "executionInfo": {
     "elapsed": 664,
     "status": "ok",
     "timestamp": 1596791736595,
     "user": {
      "displayName": "Rasmus Toivanen",
      "photoUrl": "https://lh3.googleusercontent.com/a-/AOh14Gi6IqITU91BaGAVAk-svZVjSn5PGfmmH3hFjs2tTg=s64",
      "userId": "04550260145130129127"
     },
     "user_tz": -180
    },
    "id": "Rx_phUIoWYsk",
    "outputId": "92da4ea7-e460-4cfb-8adb-69820ca275d0"
   },
   "outputs": [
    {
     "data": {
      "text/html": [
       "<div>\n",
       "<style scoped>\n",
       "    .dataframe tbody tr th:only-of-type {\n",
       "        vertical-align: middle;\n",
       "    }\n",
       "\n",
       "    .dataframe tbody tr th {\n",
       "        vertical-align: top;\n",
       "    }\n",
       "\n",
       "    .dataframe thead th {\n",
       "        text-align: right;\n",
       "    }\n",
       "</style>\n",
       "<table border=\"1\" class=\"dataframe\">\n",
       "  <thead>\n",
       "    <tr style=\"text-align: right;\">\n",
       "      <th></th>\n",
       "      <th>label</th>\n",
       "      <th>text_and_title</th>\n",
       "      <th>__label__Lemmikit</th>\n",
       "      <th>__label__Matkailu</th>\n",
       "      <th>__label__Talous</th>\n",
       "      <th>__label__Terveys</th>\n",
       "      <th>__label__Urheilu ja kuntoilu</th>\n",
       "    </tr>\n",
       "  </thead>\n",
       "  <tbody>\n",
       "    <tr>\n",
       "      <th>0</th>\n",
       "      <td>__label__Lemmikit</td>\n",
       "      <td>Amstaffit ja Pittbullit.Paska,puhdetta,sanon,m...</td>\n",
       "      <td>1</td>\n",
       "      <td>0</td>\n",
       "      <td>0</td>\n",
       "      <td>0</td>\n",
       "      <td>0</td>\n",
       "    </tr>\n",
       "    <tr>\n",
       "      <th>1</th>\n",
       "      <td>__label__Lemmikit</td>\n",
       "      <td>Kaduttaako koskaan?.Onko,kissa,sopiva,kerrosta...</td>\n",
       "      <td>1</td>\n",
       "      <td>0</td>\n",
       "      <td>0</td>\n",
       "      <td>0</td>\n",
       "      <td>0</td>\n",
       "    </tr>\n",
       "    <tr>\n",
       "      <th>2</th>\n",
       "      <td>__label__Lemmikit</td>\n",
       "      <td>Isojen koirien omistus kriminalisoitava, HETI ...</td>\n",
       "      <td>1</td>\n",
       "      <td>0</td>\n",
       "      <td>0</td>\n",
       "      <td>0</td>\n",
       "      <td>0</td>\n",
       "    </tr>\n",
       "    <tr>\n",
       "      <th>3</th>\n",
       "      <td>__label__Lemmikit</td>\n",
       "      <td>Oletteko.Käyttäneet,ravitsemusneuvojan,apuja,o...</td>\n",
       "      <td>1</td>\n",
       "      <td>0</td>\n",
       "      <td>0</td>\n",
       "      <td>0</td>\n",
       "      <td>0</td>\n",
       "    </tr>\n",
       "    <tr>\n",
       "      <th>4</th>\n",
       "      <td>__label__Lemmikit</td>\n",
       "      <td>Hyvästi Anton \"Reiska\".Mitä,väliä,kuka,harrast...</td>\n",
       "      <td>1</td>\n",
       "      <td>0</td>\n",
       "      <td>0</td>\n",
       "      <td>0</td>\n",
       "      <td>0</td>\n",
       "    </tr>\n",
       "  </tbody>\n",
       "</table>\n",
       "</div>"
      ],
      "text/plain": [
       "               label  ... __label__Urheilu ja kuntoilu\n",
       "0  __label__Lemmikit  ...                            0\n",
       "1  __label__Lemmikit  ...                            0\n",
       "2  __label__Lemmikit  ...                            0\n",
       "3  __label__Lemmikit  ...                            0\n",
       "4  __label__Lemmikit  ...                            0\n",
       "\n",
       "[5 rows x 7 columns]"
      ]
     },
     "execution_count": 15,
     "metadata": {
      "tags": []
     },
     "output_type": "execute_result"
    }
   ],
   "source": [
    "#Lets check that data was transformed correctly\n",
    "df.head()"
   ]
  },
  {
   "cell_type": "code",
   "execution_count": 16,
   "metadata": {
    "colab": {},
    "colab_type": "code",
    "executionInfo": {
     "elapsed": 454,
     "status": "ok",
     "timestamp": 1596791739398,
     "user": {
      "displayName": "Rasmus Toivanen",
      "photoUrl": "https://lh3.googleusercontent.com/a-/AOh14Gi6IqITU91BaGAVAk-svZVjSn5PGfmmH3hFjs2tTg=s64",
      "userId": "04550260145130129127"
     },
     "user_tz": -180
    },
    "id": "zVNJJvkfoEZW"
   },
   "outputs": [],
   "source": [
    "# Now that we have transformed the label column to correct dimensionality we don't need the original column anymore\n",
    "df = df.drop(columns=('label'))"
   ]
  },
  {
   "cell_type": "code",
   "execution_count": 17,
   "metadata": {
    "colab": {
     "base_uri": "https://localhost:8080/",
     "height": 204
    },
    "colab_type": "code",
    "executionInfo": {
     "elapsed": 670,
     "status": "ok",
     "timestamp": 1596791739789,
     "user": {
      "displayName": "Rasmus Toivanen",
      "photoUrl": "https://lh3.googleusercontent.com/a-/AOh14Gi6IqITU91BaGAVAk-svZVjSn5PGfmmH3hFjs2tTg=s64",
      "userId": "04550260145130129127"
     },
     "user_tz": -180
    },
    "id": "kPxY9gh_sEWG",
    "outputId": "3ddb14cb-ae77-48da-b457-c90dc30c7257"
   },
   "outputs": [
    {
     "data": {
      "text/html": [
       "<div>\n",
       "<style scoped>\n",
       "    .dataframe tbody tr th:only-of-type {\n",
       "        vertical-align: middle;\n",
       "    }\n",
       "\n",
       "    .dataframe tbody tr th {\n",
       "        vertical-align: top;\n",
       "    }\n",
       "\n",
       "    .dataframe thead th {\n",
       "        text-align: right;\n",
       "    }\n",
       "</style>\n",
       "<table border=\"1\" class=\"dataframe\">\n",
       "  <thead>\n",
       "    <tr style=\"text-align: right;\">\n",
       "      <th></th>\n",
       "      <th>text_and_title</th>\n",
       "      <th>__label__Lemmikit</th>\n",
       "      <th>__label__Matkailu</th>\n",
       "      <th>__label__Talous</th>\n",
       "      <th>__label__Terveys</th>\n",
       "      <th>__label__Urheilu ja kuntoilu</th>\n",
       "    </tr>\n",
       "  </thead>\n",
       "  <tbody>\n",
       "    <tr>\n",
       "      <th>0</th>\n",
       "      <td>Amstaffit ja Pittbullit.Paska,puhdetta,sanon,m...</td>\n",
       "      <td>1</td>\n",
       "      <td>0</td>\n",
       "      <td>0</td>\n",
       "      <td>0</td>\n",
       "      <td>0</td>\n",
       "    </tr>\n",
       "    <tr>\n",
       "      <th>1</th>\n",
       "      <td>Kaduttaako koskaan?.Onko,kissa,sopiva,kerrosta...</td>\n",
       "      <td>1</td>\n",
       "      <td>0</td>\n",
       "      <td>0</td>\n",
       "      <td>0</td>\n",
       "      <td>0</td>\n",
       "    </tr>\n",
       "    <tr>\n",
       "      <th>2</th>\n",
       "      <td>Isojen koirien omistus kriminalisoitava, HETI ...</td>\n",
       "      <td>1</td>\n",
       "      <td>0</td>\n",
       "      <td>0</td>\n",
       "      <td>0</td>\n",
       "      <td>0</td>\n",
       "    </tr>\n",
       "    <tr>\n",
       "      <th>3</th>\n",
       "      <td>Oletteko.Käyttäneet,ravitsemusneuvojan,apuja,o...</td>\n",
       "      <td>1</td>\n",
       "      <td>0</td>\n",
       "      <td>0</td>\n",
       "      <td>0</td>\n",
       "      <td>0</td>\n",
       "    </tr>\n",
       "    <tr>\n",
       "      <th>4</th>\n",
       "      <td>Hyvästi Anton \"Reiska\".Mitä,väliä,kuka,harrast...</td>\n",
       "      <td>1</td>\n",
       "      <td>0</td>\n",
       "      <td>0</td>\n",
       "      <td>0</td>\n",
       "      <td>0</td>\n",
       "    </tr>\n",
       "  </tbody>\n",
       "</table>\n",
       "</div>"
      ],
      "text/plain": [
       "                                      text_and_title  ...  __label__Urheilu ja kuntoilu\n",
       "0  Amstaffit ja Pittbullit.Paska,puhdetta,sanon,m...  ...                             0\n",
       "1  Kaduttaako koskaan?.Onko,kissa,sopiva,kerrosta...  ...                             0\n",
       "2  Isojen koirien omistus kriminalisoitava, HETI ...  ...                             0\n",
       "3  Oletteko.Käyttäneet,ravitsemusneuvojan,apuja,o...  ...                             0\n",
       "4  Hyvästi Anton \"Reiska\".Mitä,väliä,kuka,harrast...  ...                             0\n",
       "\n",
       "[5 rows x 6 columns]"
      ]
     },
     "execution_count": 17,
     "metadata": {
      "tags": []
     },
     "output_type": "execute_result"
    }
   ],
   "source": [
    "#Lets check that label column is now gone\n",
    "df.head()"
   ]
  },
  {
   "cell_type": "code",
   "execution_count": 18,
   "metadata": {
    "colab": {},
    "colab_type": "code",
    "executionInfo": {
     "elapsed": 746,
     "status": "ok",
     "timestamp": 1596791742792,
     "user": {
      "displayName": "Rasmus Toivanen",
      "photoUrl": "https://lh3.googleusercontent.com/a-/AOh14Gi6IqITU91BaGAVAk-svZVjSn5PGfmmH3hFjs2tTg=s64",
      "userId": "04550260145130129127"
     },
     "user_tz": -180
    },
    "id": "E6JfirHYr0vs"
   },
   "outputs": [],
   "source": [
    "# Lets defile list of label columns. We will use this later in the preprocessing step\n",
    "label_columns = [i for i in df.columns[1:]]"
   ]
  },
  {
   "cell_type": "code",
   "execution_count": 19,
   "metadata": {
    "colab": {
     "base_uri": "https://localhost:8080/",
     "height": 119
    },
    "colab_type": "code",
    "executionInfo": {
     "elapsed": 23795,
     "status": "ok",
     "timestamp": 1596791768047,
     "user": {
      "displayName": "Rasmus Toivanen",
      "photoUrl": "https://lh3.googleusercontent.com/a-/AOh14Gi6IqITU91BaGAVAk-svZVjSn5PGfmmH3hFjs2tTg=s64",
      "userId": "04550260145130129127"
     },
     "user_tz": -180
    },
    "id": "QSHolqOu3h9l",
    "outputId": "b0e71077-e306-4d17-f6ea-370949f48ac0"
   },
   "outputs": [
    {
     "name": "stdout",
     "output_type": "stream",
     "text": [
      "rmdir: failed to remove '/root/ktrain_data/multi_cased_L-12_H-768_A-12': No such file or directory\n",
      "download: s3://ml-examples-data-and-modelfileshare/models/finbert/multi_cased_L-12_H-768_A-12/bert_config.json to ../root/ktrain_data/multi_cased_L-12_H-768_A-12/bert_config.json\n",
      "download: s3://ml-examples-data-and-modelfileshare/models/finbert/multi_cased_L-12_H-768_A-12/bert_model.ckpt.index to ../root/ktrain_data/multi_cased_L-12_H-768_A-12/bert_model.ckpt.index\n",
      "download: s3://ml-examples-data-and-modelfileshare/models/finbert/multi_cased_L-12_H-768_A-12/vocab.txt to ../root/ktrain_data/multi_cased_L-12_H-768_A-12/vocab.txt\n",
      "download: s3://ml-examples-data-and-modelfileshare/models/finbert/multi_cased_L-12_H-768_A-12/bert_model.ckpt.meta to ../root/ktrain_data/multi_cased_L-12_H-768_A-12/bert_model.ckpt.meta\n",
      "download: s3://ml-examples-data-and-modelfileshare/models/finbert/multi_cased_L-12_H-768_A-12/bert_model.ckpt.data-00000-of-00001 to ../root/ktrain_data/multi_cased_L-12_H-768_A-12/bert_model.ckpt.data-00000-of-00001\n"
     ]
    }
   ],
   "source": [
    "# Download model files and place those to the folder that ktrain by default will use. Normally ktrain uses language detection to detect which model to download. Detecting finnish defaults to downloading multilingual model but we wan't to use finnish model.\n",
    "# Thus placing the model in default directory with the name of the multilingual model will make it so that ktrain won't download the multilingual model and instead will use finnish model that is now just named as multilingual model (This is a trick to fool ktrain)\n",
    "!rmdir  /root/ktrain_data/multi_cased_L-12_H-768_A-12\n",
    "!mkdir /root/ktrain_data\n",
    "!aws s3 cp --no-sign-request --recursive s3://ml-examples-data-and-modelfileshare/models/finbert/multi_cased_L-12_H-768_A-12 /root/ktrain_data/multi_cased_L-12_H-768_A-12"
   ]
  },
  {
   "cell_type": "code",
   "execution_count": 20,
   "metadata": {
    "colab": {
     "base_uri": "https://localhost:8080/",
     "height": 119
    },
    "colab_type": "code",
    "executionInfo": {
     "elapsed": 26213,
     "status": "ok",
     "timestamp": 1596791875984,
     "user": {
      "displayName": "Rasmus Toivanen",
      "photoUrl": "https://lh3.googleusercontent.com/a-/AOh14Gi6IqITU91BaGAVAk-svZVjSn5PGfmmH3hFjs2tTg=s64",
      "userId": "04550260145130129127"
     },
     "user_tz": -180
    },
    "id": "VGTL_XiBWYst",
    "outputId": "1b4cc8e1-e822-4e78-dde3-a3fe99f4a5b3"
   },
   "outputs": [
    {
     "name": "stdout",
     "output_type": "stream",
     "text": [
      "preprocessing train...\n",
      "language: fi\n"
     ]
    },
    {
     "data": {
      "text/html": [
       "done."
      ],
      "text/plain": [
       "<IPython.core.display.HTML object>"
      ]
     },
     "metadata": {
      "tags": []
     },
     "output_type": "display_data"
    },
    {
     "name": "stdout",
     "output_type": "stream",
     "text": [
      "preprocessing test...\n",
      "language: fi\n"
     ]
    },
    {
     "data": {
      "text/html": [
       "done."
      ],
      "text/plain": [
       "<IPython.core.display.HTML object>"
      ]
     },
     "metadata": {
      "tags": []
     },
     "output_type": "display_data"
    }
   ],
   "source": [
    "(x_train, y_train), (x_test, y_test), preproc = text.texts_from_df(df, \n",
    "                                                                   'text_and_title', # name of column containing review text\n",
    "                                                                   label_columns=label_columns,\n",
    "                                                                   maxlen=100, \n",
    "                                                                   max_features=100000,\n",
    "                                                                   preprocess_mode='bert',\n",
    "                                                                   val_pct=0.2)"
   ]
  },
  {
   "cell_type": "code",
   "execution_count": 21,
   "metadata": {
    "colab": {
     "base_uri": "https://localhost:8080/",
     "height": 68
    },
    "colab_type": "code",
    "executionInfo": {
     "elapsed": 12596,
     "status": "ok",
     "timestamp": 1596792041642,
     "user": {
      "displayName": "Rasmus Toivanen",
      "photoUrl": "https://lh3.googleusercontent.com/a-/AOh14Gi6IqITU91BaGAVAk-svZVjSn5PGfmmH3hFjs2tTg=s64",
      "userId": "04550260145130129127"
     },
     "user_tz": -180
    },
    "id": "guhLvp2uWYtE",
    "outputId": "2eadca7d-1be2-4a52-b57e-6428041e7b68"
   },
   "outputs": [
    {
     "name": "stdout",
     "output_type": "stream",
     "text": [
      "Is Multi-Label? False\n",
      "maxlen is 100\n",
      "done.\n"
     ]
    }
   ],
   "source": [
    "# lets define the model and learner objects\n",
    "model = text.text_classifier('bert', (x_train, y_train) , preproc=preproc)\n",
    "learner = ktrain.get_learner(model, \n",
    "                             train_data=(x_train, y_train), \n",
    "                             val_data=(x_test, y_test), \n",
    "                             batch_size=16)"
   ]
  },
  {
   "cell_type": "code",
   "execution_count": 22,
   "metadata": {
    "colab": {
     "base_uri": "https://localhost:8080/",
     "height": 436
    },
    "colab_type": "code",
    "executionInfo": {
     "elapsed": 632049,
     "status": "ok",
     "timestamp": 1596792667063,
     "user": {
      "displayName": "Rasmus Toivanen",
      "photoUrl": "https://lh3.googleusercontent.com/a-/AOh14Gi6IqITU91BaGAVAk-svZVjSn5PGfmmH3hFjs2tTg=s64",
      "userId": "04550260145130129127"
     },
     "user_tz": -180
    },
    "id": "eo6HP30mWYtG",
    "outputId": "586f5f08-f5a4-49df-ba9d-1e6f832ee6b8"
   },
   "outputs": [
    {
     "name": "stdout",
     "output_type": "stream",
     "text": [
      "simulating training for different learning rates... this may take a few moments...\n",
      "Train on 8636 samples\n",
      "Epoch 1/1024\n",
      "8636/8636 [==============================] - 414s 48ms/sample - loss: 1.1662 - accuracy: 0.5418\n",
      "Epoch 2/1024\n",
      "4480/8636 [==============>...............] - ETA: 3:08 - loss: 0.3818 - accuracy: 0.8862\n",
      "\n",
      "done.\n",
      "Please invoke the Learner.lr_plot() method to visually inspect the loss plot to help identify the maximal learning rate associated with falling loss.\n"
     ]
    },
    {
     "data": {
      "image/png": "[encoded data removed]",
      "text/plain": [
       "<Figure size 432x288 with 1 Axes>"
      ]
     },
     "metadata": {
      "needs_background": "light",
      "tags": []
     },
     "output_type": "display_data"
    }
   ],
   "source": [
    "#Lets use learning rate finder to find good learning rate. Good starting learning rate is x/10 where x is the spot where loss vs learning rate curve starts to rise\n",
    "learner.lr_find()\n",
    "learner.lr_plot()"
   ]
  },
  {
   "cell_type": "code",
   "execution_count": 23,
   "metadata": {
    "colab": {
     "base_uri": "https://localhost:8080/",
     "height": 119
    },
    "colab_type": "code",
    "executionInfo": {
     "elapsed": 419003,
     "status": "ok",
     "timestamp": 1596793212919,
     "user": {
      "displayName": "Rasmus Toivanen",
      "photoUrl": "https://lh3.googleusercontent.com/a-/AOh14Gi6IqITU91BaGAVAk-svZVjSn5PGfmmH3hFjs2tTg=s64",
      "userId": "04550260145130129127"
     },
     "user_tz": -180
    },
    "id": "z-qNrsxpWYtI",
    "outputId": "75c36559-10f0-4455-c96f-60dc1217a084"
   },
   "outputs": [
    {
     "name": "stdout",
     "output_type": "stream",
     "text": [
      "\n",
      "\n",
      "begin training using onecycle policy with max lr of 7e-05...\n",
      "Train on 8636 samples, validate on 2159 samples\n",
      "8636/8636 [==============================] - 418s 48ms/sample - loss: 0.3202 - accuracy: 0.8872 - val_loss: 0.0890 - val_accuracy: 0.9787\n"
     ]
    },
    {
     "data": {
      "text/plain": [
       "<tensorflow.python.keras.callbacks.History at 0x7f59015eb358>"
      ]
     },
     "execution_count": 23,
     "metadata": {
      "tags": []
     },
     "output_type": "execute_result"
    }
   ],
   "source": [
    "# Now lets run training using the onecycle method. Here we run just 1 epoch.\n",
    "learner.fit_onecycle(7e-5, 1)"
   ]
  },
  {
   "cell_type": "code",
   "execution_count": 24,
   "metadata": {
    "colab": {
     "base_uri": "https://localhost:8080/",
     "height": 306
    },
    "colab_type": "code",
    "executionInfo": {
     "elapsed": 21645,
     "status": "ok",
     "timestamp": 1596793391274,
     "user": {
      "displayName": "Rasmus Toivanen",
      "photoUrl": "https://lh3.googleusercontent.com/a-/AOh14Gi6IqITU91BaGAVAk-svZVjSn5PGfmmH3hFjs2tTg=s64",
      "userId": "04550260145130129127"
     },
     "user_tz": -180
    },
    "id": "rEmzRP1IWYtK",
    "outputId": "9a5e0295-4ca1-43b5-af84-7ea73324ac55"
   },
   "outputs": [
    {
     "name": "stdout",
     "output_type": "stream",
     "text": [
      "                              precision    recall  f1-score   support\n",
      "\n",
      "           __label__Lemmikit       0.98      0.99      0.98       442\n",
      "           __label__Matkailu       1.00      0.97      0.98       452\n",
      "             __label__Talous       0.98      0.98      0.98       440\n",
      "            __label__Terveys       0.97      0.98      0.98       419\n",
      "__label__Urheilu ja kuntoilu       0.97      0.97      0.97       406\n",
      "\n",
      "                    accuracy                           0.98      2159\n",
      "                   macro avg       0.98      0.98      0.98      2159\n",
      "                weighted avg       0.98      0.98      0.98      2159\n",
      "\n"
     ]
    },
    {
     "data": {
      "text/plain": [
       "array([[438,   0,   1,   1,   2],\n",
       "       [  3, 438,   5,   1,   5],\n",
       "       [  2,   0, 433,   3,   2],\n",
       "       [  2,   2,   0, 411,   4],\n",
       "       [  4,   0,   3,   6, 393]])"
      ]
     },
     "execution_count": 24,
     "metadata": {
      "tags": []
     },
     "output_type": "execute_result"
    }
   ],
   "source": [
    "# Just after 1 epoch, lets see what kind of results we can get on test set.\n",
    "learner.validate(val_data=(x_test, y_test), class_names=label_columns)"
   ]
  },
  {
   "cell_type": "code",
   "execution_count": 25,
   "metadata": {
    "colab": {},
    "colab_type": "code",
    "executionInfo": {
     "elapsed": 713,
     "status": "ok",
     "timestamp": 1596793995429,
     "user": {
      "displayName": "Rasmus Toivanen",
      "photoUrl": "https://lh3.googleusercontent.com/a-/AOh14Gi6IqITU91BaGAVAk-svZVjSn5PGfmmH3hFjs2tTg=s64",
      "userId": "04550260145130129127"
     },
     "user_tz": -180
    },
    "id": "g6o5f7qZWYtM"
   },
   "outputs": [],
   "source": [
    "# Woah, 98% accuracy with just one epoch, lets now test it with dew predictions. First lets make predictor object\n",
    "predictor = ktrain.get_predictor(learner.model, preproc)"
   ]
  },
  {
   "cell_type": "code",
   "execution_count": 37,
   "metadata": {
    "colab": {
     "base_uri": "https://localhost:8080/",
     "height": 170
    },
    "colab_type": "code",
    "executionInfo": {
     "elapsed": 1068,
     "status": "ok",
     "timestamp": 1596794270023,
     "user": {
      "displayName": "Rasmus Toivanen",
      "photoUrl": "https://lh3.googleusercontent.com/a-/AOh14Gi6IqITU91BaGAVAk-svZVjSn5PGfmmH3hFjs2tTg=s64",
      "userId": "04550260145130129127"
     },
     "user_tz": -180
    },
    "id": "ZptKDPRGWYtO",
    "outputId": "e99b3520-4632-4720-a0b0-62da2e7bda7a"
   },
   "outputs": [
    {
     "name": "stdout",
     "output_type": "stream",
     "text": [
      "0: Kissat on kivoja\n"
     ]
    },
    {
     "data": {
      "text/html": [],
      "text/plain": [
       "<IPython.core.display.HTML object>"
      ]
     },
     "metadata": {
      "tags": []
     },
     "output_type": "display_data"
    },
    {
     "name": "stdout",
     "output_type": "stream",
     "text": [
      "prediction is: __label__Lemmikit\n",
      "\n",
      "1: Suomen talous on kuralla, hallitus vaihtoon!\n"
     ]
    },
    {
     "data": {
      "text/html": [],
      "text/plain": [
       "<IPython.core.display.HTML object>"
      ]
     },
     "metadata": {
      "tags": []
     },
     "output_type": "display_data"
    },
    {
     "name": "stdout",
     "output_type": "stream",
     "text": [
      "prediction is: __label__Talous\n",
      "\n",
      "2: Kuntosalilla käyminen on kivaa, tulee hiki pintaan ja mielikin virkistyy\n"
     ]
    },
    {
     "data": {
      "text/html": [],
      "text/plain": [
       "<IPython.core.display.HTML object>"
      ]
     },
     "metadata": {
      "tags": []
     },
     "output_type": "display_data"
    },
    {
     "name": "stdout",
     "output_type": "stream",
     "text": [
      "prediction is: __label__Urheilu ja kuntoilu\n",
      "\n"
     ]
    }
   ],
   "source": [
    "## Now lets test the model with few examples\n",
    "texts = [\"Kissat on kivoja\", # \"Cats are nice\"\n",
    "         \"Suomen talous on kuralla, hallitus vaihtoon!\",  # \"Finnish economy sucks, lets switch the goverment!\"\n",
    "         \"Kuntosalilla käyminen on kivaa, tulee hiki pintaan ja mielikin virkistyy\"] #\"Going to the gym is nice, one gets sweaty and it also refreshes ones mind\"\n",
    "\n",
    "for i,text in enumerate(texts):\n",
    "    print(\"{}: {}\".format(i, text))\n",
    "    prediction = predictor.predict(text)\n",
    "    print(\"prediction is: \" + prediction + '\\n')"
   ]
  },
  {
   "cell_type": "code",
   "execution_count": 39,
   "metadata": {
    "colab": {},
    "colab_type": "code",
    "executionInfo": {
     "elapsed": 8554,
     "status": "ok",
     "timestamp": 1596794295934,
     "user": {
      "displayName": "Rasmus Toivanen",
      "photoUrl": "https://lh3.googleusercontent.com/a-/AOh14Gi6IqITU91BaGAVAk-svZVjSn5PGfmmH3hFjs2tTg=s64",
      "userId": "04550260145130129127"
     },
     "user_tz": -180
    },
    "id": "CXj6yCk_WYtP"
   },
   "outputs": [],
   "source": [
    "# Model seems to work quite well, lets finally save it.\n",
    "!mkdir model\n",
    "predictor.save('model/suomi24_5_topic_model_FinBERT')"
   ]
  },
  {
   "cell_type": "code",
   "execution_count": null,
   "metadata": {
    "colab": {},
    "colab_type": "code",
    "id": "ZP1Aj6-dW2KS"
   },
   "outputs": [],
   "source": []
  }
 ],
 "metadata": {
  "accelerator": "GPU",
  "colab": {
   "collapsed_sections": [],
   "name": "Bert_suomi24_transfer_learning_example.ipynb",
   "provenance": []
  },
  "kernelspec": {
   "display_name": "Python [conda env:FinBertTrainEnv] *",
   "language": "python",
   "name": "conda-env-FinBertTrainEnv-py"
  },
  "language_info": {
   "codemirror_mode": {
    "name": "ipython",
    "version": 3
   },
   "file_extension": ".py",
   "mimetype": "text/x-python",
   "name": "python",
   "nbconvert_exporter": "python",
   "pygments_lexer": "ipython3",
   "version": "3.7.6"
  }
 },
 "nbformat": 4,
 "nbformat_minor": 1
}
